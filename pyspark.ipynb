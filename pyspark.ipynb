{
 "cells": [
  {
   "cell_type": "code",
   "execution_count": 1,
   "metadata": {},
   "outputs": [],
   "source": [
    "from pyspark.sql import SparkSession\n",
    "from pyspark import SparkContext,SparkConf\n",
    "from pyspark.sql import Row\n",
    "from pyspark.sql.types import *\n",
    "from pyspark.sql import functions\n",
    "import numpy as np\n",
    "import pandas as pd\n",
    "from pyecharts import options as opts\n",
    "from pyecharts.charts import Pie\n",
    "from pyecharts.commons.utils import JsCode\n",
    "from pyecharts.charts import Grid, Line, Scatter\n",
    "from pyecharts.charts import Timeline\n",
    "from pyecharts.faker import Faker"
   ]
  },
  {
   "cell_type": "code",
   "execution_count": 36,
   "metadata": {},
   "outputs": [],
   "source": [
    "from pyecharts.charts import Map"
   ]
  },
  {
   "cell_type": "code",
   "execution_count": 2,
   "metadata": {},
   "outputs": [],
   "source": [
    "sc = SparkContext(\"local\",\"app1\")"
   ]
  },
  {
   "cell_type": "code",
   "execution_count": 3,
   "metadata": {},
   "outputs": [
    {
     "name": "stdout",
     "output_type": "stream",
     "text": [
      "[('站号', 'int'), ('经度', 'double'), ('纬度', 'double'), ('PM25', 'int'), ('PM10', 'int'), ('NO2', 'int'), ('SO2', 'int'), ('O3-1', 'int'), ('O3-8h', 'int'), ('CO', 'double'), ('AQI', 'int'), ('等级', 'int'), ('year', 'int'), ('month', 'int'), ('day', 'int'), ('hour', 'int'), ('city', 'string')]\n"
     ]
    }
   ],
   "source": [
    "spark=SparkSession.builder.appName(\"boye\").getOrCreate()\n",
    "spark.conf.set(\"spark.sql.execution.arrow.enabled\", \"true\")\n",
    "df = spark.read.format('com.databricks.spark.csv').options(header='true', inferschema='true').load(\"hdfs://localhost:9000/user/hadoop/PM25city\")\n",
    "print(df.dtypes)"
   ]
  },
  {
   "cell_type": "code",
   "execution_count": 4,
   "metadata": {},
   "outputs": [
    {
     "data": {
      "text/plain": [
       "DataFrame[站号: int, 经度: double, 纬度: double, PM25: int, PM10: int, NO2: int, SO2: int, O3-1: int, O3-8h: int, CO: double, AQI: int, 等级: int, year: int, month: int, day: int, hour: int, city: string]"
      ]
     },
     "execution_count": 4,
     "metadata": {},
     "output_type": "execute_result"
    }
   ],
   "source": [
    "#删除重复值\n",
    "df.dropDuplicates()"
   ]
  },
  {
   "cell_type": "code",
   "execution_count": 5,
   "metadata": {},
   "outputs": [
    {
     "name": "stdout",
     "output_type": "stream",
     "text": [
      "记录数： 398355\n"
     ]
    }
   ],
   "source": [
    "#统计记录数量\n",
    "ls = df.columns\n",
    "count = df.count()\n",
    "print(\"记录数：\",count)"
   ]
  },
  {
   "cell_type": "code",
   "execution_count": 6,
   "metadata": {},
   "outputs": [
    {
     "name": "stdout",
     "output_type": "stream",
     "text": [
      "+-------+-----------------+\n",
      "|summary|             PM25|\n",
      "+-------+-----------------+\n",
      "|  count|           398355|\n",
      "|   mean|58.73549974269182|\n",
      "| stddev|57.21569843647059|\n",
      "|    min|                0|\n",
      "|    max|              589|\n",
      "+-------+-----------------+\n",
      "\n"
     ]
    }
   ],
   "source": [
    "df.describe(['PM25']).show()"
   ]
  },
  {
   "cell_type": "markdown",
   "metadata": {},
   "source": [
    "# Question 1"
   ]
  },
  {
   "cell_type": "code",
   "execution_count": 7,
   "metadata": {},
   "outputs": [
    {
     "name": "stdout",
     "output_type": "stream",
     "text": [
      "+--------+------------------+\n",
      "|    city|    avg(min(PM25))|\n",
      "+--------+------------------+\n",
      "|    海口| 9.840816326530613|\n",
      "|    昆明|13.761270491803279|\n",
      "|    厦门|14.846463022508038|\n",
      "|呼和浩特|14.951289398280803|\n",
      "|    上海| 23.26162962962963|\n",
      "|    北京|26.387667304015295|\n",
      "|    天津|27.450048496605238|\n",
      "|    青岛|29.182879377431906|\n",
      "|    成都| 34.78746327130264|\n",
      "|    济南| 45.89268805891636|\n",
      "|乌鲁木齐|52.323340471092074|\n",
      "|    郑州| 59.52669160149609|\n",
      "+--------+------------------+\n",
      "\n"
     ]
    }
   ],
   "source": [
    "#将每天pm2.5的最小值作为每天的pm2.5值\n",
    "#求所有城市的平均值\n",
    "df_day_mean = df.groupby(\"year\",\"month\",\"day\",\"站号\",\"city\").agg({\"PM25\":\"min\"})\n",
    "df2 = df_day_mean.groupby(\"city\").agg({\"min(PM25)\":\"avg\"}).sort(\"avg(min(PM25))\")\n",
    "df2.show()"
   ]
  },
  {
   "cell_type": "code",
   "execution_count": 62,
   "metadata": {},
   "outputs": [],
   "source": [
    "import pyecharts.options as opts\n",
    "from pyecharts.charts import Line\n",
    "y = np.round(df2.toPandas()['avg(min(PM25))'].values.tolist(),2)\n",
    "x_citys = df2.toPandas()['city'].values.tolist()\n",
    "\n",
    "# value = []\n",
    "# for i in range(len(y)):\n",
    "#     j=0\n",
    "#     if i%2==0:\n",
    "#         value.append(y[0])\n",
    "#     else:\n",
    "#         value.append(None)\n",
    "#     j+=1\n",
    "        \n",
    "c = (\n",
    "    Line()\n",
    "    .add_xaxis(x_citys)\n",
    "    .add_yaxis(\"PM2.5浓度\", y)\n",
    "    .set_global_opts(\n",
    "                     title_opts=opts.TitleOpts(title=\"全国各城市PM2.5浓度\"),\n",
    "     xaxis_opts=opts.AxisOpts(type_=\"category\", boundary_gap=False),)\n",
    "    .render(\"最小值.html\")\n",
    ")"
   ]
  },
  {
   "cell_type": "code",
   "execution_count": 8,
   "metadata": {},
   "outputs": [
    {
     "name": "stdout",
     "output_type": "stream",
     "text": [
      "+--------+------------------+\n",
      "|    city|    avg(max(PM25))|\n",
      "+--------+------------------+\n",
      "|    海口| 25.37142857142857|\n",
      "|    昆明|38.329918032786885|\n",
      "|    厦门|43.348874598070736|\n",
      "|    上海| 60.56325925925926|\n",
      "|    成都| 76.00293829578844|\n",
      "|呼和浩特| 87.70773638968481|\n",
      "|    青岛| 92.29036964980544|\n",
      "|    北京| 93.68451242829828|\n",
      "|    天津| 98.16553507921112|\n",
      "|    济南|122.06470278800631|\n",
      "+--------+------------------+\n",
      "only showing top 10 rows\n",
      "\n"
     ]
    }
   ],
   "source": [
    "# 将每天PM2.5的最大值作为当天的PM2.5值\n",
    "df1= df.groupby(\"year\",\"month\",\"day\",\"站号\",\"city\").agg({\"PM25\":\"max\"})\n",
    "df3 = df1.groupby(\"city\").agg({\"max(PM25)\":\"avg\"}).sort(\"avg(max(PM25))\")\n",
    "df3.show(10)"
   ]
  },
  {
   "cell_type": "code",
   "execution_count": 63,
   "metadata": {},
   "outputs": [],
   "source": [
    "y_2 = np.round(df3.toPandas()['avg(max(PM25))'].values.tolist(),2)\n",
    "x_citys_2 = df3.toPandas()['city'].values.tolist()\n",
    "c = (\n",
    "    Line()\n",
    "    .add_xaxis(x_citys_2)\n",
    "    .add_yaxis(\"PM2.5浓度\", y_2, is_connect_nones=True)\n",
    "    .set_global_opts(xaxis_opts=opts.AxisOpts(type_=\"category\", boundary_gap=False),\n",
    "                     title_opts=opts.TitleOpts(title=\"全国各城市PM2.5浓度\"))\n",
    "    .render(\"平均值最大值.html\")\n",
    ")"
   ]
  },
  {
   "cell_type": "code",
   "execution_count": 9,
   "metadata": {},
   "outputs": [
    {
     "name": "stdout",
     "output_type": "stream",
     "text": [
      "+--------+------------------+\n",
      "|    city|         avg(PM25)|\n",
      "+--------+------------------+\n",
      "|    海口|16.023941264098745|\n",
      "|    昆明| 23.64524182778842|\n",
      "|    厦门|27.681850789096128|\n",
      "|    上海|41.380602802979745|\n",
      "|呼和浩特| 41.75553613053613|\n",
      "|    北京| 54.73764218135431|\n",
      "|    成都| 56.21107737155351|\n",
      "|    天津| 56.37377220858009|\n",
      "|    青岛| 60.41360111859667|\n",
      "|    济南| 83.21077401685767|\n",
      "|乌鲁木齐| 83.67879768162825|\n",
      "|    郑州| 94.13384405730912|\n",
      "+--------+------------------+\n",
      "\n"
     ]
    }
   ],
   "source": [
    "#求所有城市所有记录的平均值\n",
    "df4 = df.groupby('city').agg({\"PM25\":\"mean\"}).sort(\"avg(PM25)\")\n",
    "df4.show()"
   ]
  },
  {
   "cell_type": "code",
   "execution_count": 64,
   "metadata": {},
   "outputs": [],
   "source": [
    "y_3 = np.round(df4.toPandas()['avg(PM25)'].values.tolist(),2)\n",
    "x_citys_3 = df4.toPandas()['city'].values.tolist()\n",
    "c = (\n",
    "    Line()\n",
    "    .add_xaxis(x_citys_3)\n",
    "    .add_yaxis(\"PM2.5浓度\", y_3, is_connect_nones=True)\n",
    "    .set_global_opts(xaxis_opts=opts.AxisOpts(type_=\"category\", boundary_gap=False),\n",
    "                     title_opts=opts.TitleOpts(title=\"全国各城市PM2.5浓度\"))\n",
    "    .render(\"平均值.html\")\n",
    ")"
   ]
  },
  {
   "cell_type": "code",
   "execution_count": 10,
   "metadata": {},
   "outputs": [
    {
     "name": "stdout",
     "output_type": "stream",
     "text": [
      "+--------+---------+\n",
      "|    city|max(PM25)|\n",
      "+--------+---------+\n",
      "|    海口|      167|\n",
      "|    昆明|      288|\n",
      "|    上海|      288|\n",
      "|    厦门|      303|\n",
      "|    成都|      359|\n",
      "|    青岛|      425|\n",
      "|    郑州|      521|\n",
      "|呼和浩特|      530|\n",
      "|    济南|      534|\n",
      "|乌鲁木齐|      546|\n",
      "|    天津|      589|\n",
      "|    北京|      589|\n",
      "+--------+---------+\n",
      "\n"
     ]
    }
   ],
   "source": [
    "#将每个地区pm2.5的最大值排序\n",
    "df5 = df.groupby(\"city\").agg({\"PM25\":\"max\"}).sort(\"max(PM25)\")\n",
    "df5.show()"
   ]
  },
  {
   "cell_type": "markdown",
   "metadata": {},
   "source": [
    "# Question 2"
   ]
  },
  {
   "cell_type": "code",
   "execution_count": 11,
   "metadata": {},
   "outputs": [],
   "source": [
    "# report the air quality distribution of 北京 上海 成都 throughout February in the year of 2019\n",
    "# Good Moderate Unhealthy Very Unhealthy Hazardous\n",
    "df_2 = df.filter(\"city == '北京' or city == '上海' or city=='成都' \")\n",
    "df_2 = df_2.filter(\"year==2019 and month==2\")"
   ]
  },
  {
   "cell_type": "code",
   "execution_count": 12,
   "metadata": {},
   "outputs": [
    {
     "name": "stderr",
     "output_type": "stream",
     "text": [
      "/usr/local/spark/python/pyspark/sql/dataframe.py:2111: UserWarning: toPandas attempted Arrow optimization because 'spark.sql.execution.arrow.enabled' is set to true; however, failed by the reason below:\n",
      "  PyArrow >= 0.8.0 must be installed; however, it was not found.\n",
      "Attempting non-optimization as 'spark.sql.execution.arrow.fallback.enabled' is set to true.\n",
      "  warnings.warn(msg)\n"
     ]
    }
   ],
   "source": [
    "data_2 = df_2.toPandas()\n",
    "data_2[data_2['AQI']>500] = 500 #处理异常值"
   ]
  },
  {
   "cell_type": "code",
   "execution_count": 13,
   "metadata": {},
   "outputs": [
    {
     "data": {
      "text/plain": [
       "(42825, 17)"
      ]
     },
     "execution_count": 13,
     "metadata": {},
     "output_type": "execute_result"
    }
   ],
   "source": [
    "data_2.shape"
   ]
  },
  {
   "cell_type": "code",
   "execution_count": 14,
   "metadata": {},
   "outputs": [],
   "source": [
    "def set_air_quality(x):\n",
    "    if x<=50:\n",
    "        x = 'good'\n",
    "    elif x<=100:\n",
    "        x = 'Moderate'\n",
    "    elif x<=150:\n",
    "        x = 'Unhealthy for Sensitive Groups'\n",
    "    elif x<=200:\n",
    "        x = 'Unhealthy'\n",
    "    elif x<=300:\n",
    "        x = 'Very Unhealthy'\n",
    "    else:\n",
    "        x = 'Hazardous'\n",
    "    return x\n",
    "data_2['air_quality'] = data_2['AQI']\n",
    "data_2['air_quality'] = data_2['air_quality'].apply(lambda x:set_air_quality(x))\n",
    "# data_2[data_2['AQI']<=100 & data_2['AQI']>50]['air_quality'] = 'Moderate'\n",
    "#以一天中大部分站点的空气质量情况作为该城市这天的空气质量情况\n",
    "df_air_quality = data_2.groupby(['day','city'])['air_quality'].value_counts()"
   ]
  },
  {
   "cell_type": "code",
   "execution_count": 15,
   "metadata": {},
   "outputs": [
    {
     "data": {
      "text/plain": [
       "day  city  air_quality                   \n",
       "1    上海    Moderate                          297\n",
       "           Unhealthy for Sensitive Groups    227\n",
       "           good                               41\n",
       "           Unhealthy                           1\n",
       "     北京    Moderate                          339\n",
       "                                            ... \n",
       "28   北京    Hazardous                          11\n",
       "           good                                3\n",
       "     成都    Moderate                          517\n",
       "           Unhealthy for Sensitive Groups     20\n",
       "           good                                8\n",
       "Name: air_quality, Length: 304, dtype: int64"
      ]
     },
     "execution_count": 15,
     "metadata": {},
     "output_type": "execute_result"
    }
   ],
   "source": [
    "(df_air_quality)"
   ]
  },
  {
   "cell_type": "code",
   "execution_count": 16,
   "metadata": {},
   "outputs": [],
   "source": [
    "d = df_air_quality.sort_values()\n",
    "d = pd.DataFrame(d)\n",
    "d.rename(columns = {'air_quality':'counts'},inplace = True)\n",
    "d.reset_index(inplace = True)"
   ]
  },
  {
   "cell_type": "code",
   "execution_count": 17,
   "metadata": {},
   "outputs": [],
   "source": [
    "air_dayly = d. sort_values(by=['day','counts'],ascending=[True,False])"
   ]
  },
  {
   "cell_type": "code",
   "execution_count": 18,
   "metadata": {},
   "outputs": [
    {
     "data": {
      "text/html": [
       "<div>\n",
       "<style scoped>\n",
       "    .dataframe tbody tr th:only-of-type {\n",
       "        vertical-align: middle;\n",
       "    }\n",
       "\n",
       "    .dataframe tbody tr th {\n",
       "        vertical-align: top;\n",
       "    }\n",
       "\n",
       "    .dataframe thead th {\n",
       "        text-align: right;\n",
       "    }\n",
       "</style>\n",
       "<table border=\"1\" class=\"dataframe\">\n",
       "  <thead>\n",
       "    <tr style=\"text-align: right;\">\n",
       "      <th></th>\n",
       "      <th>day</th>\n",
       "      <th>city</th>\n",
       "      <th>air_quality</th>\n",
       "      <th>counts</th>\n",
       "    </tr>\n",
       "  </thead>\n",
       "  <tbody>\n",
       "    <tr>\n",
       "      <th>272</th>\n",
       "      <td>1</td>\n",
       "      <td>成都</td>\n",
       "      <td>Moderate</td>\n",
       "      <td>408</td>\n",
       "    </tr>\n",
       "    <tr>\n",
       "      <th>260</th>\n",
       "      <td>1</td>\n",
       "      <td>北京</td>\n",
       "      <td>Moderate</td>\n",
       "      <td>339</td>\n",
       "    </tr>\n",
       "    <tr>\n",
       "      <th>254</th>\n",
       "      <td>1</td>\n",
       "      <td>上海</td>\n",
       "      <td>Moderate</td>\n",
       "      <td>297</td>\n",
       "    </tr>\n",
       "    <tr>\n",
       "      <th>231</th>\n",
       "      <td>1</td>\n",
       "      <td>上海</td>\n",
       "      <td>Unhealthy for Sensitive Groups</td>\n",
       "      <td>227</td>\n",
       "    </tr>\n",
       "    <tr>\n",
       "      <th>192</th>\n",
       "      <td>1</td>\n",
       "      <td>北京</td>\n",
       "      <td>Unhealthy for Sensitive Groups</td>\n",
       "      <td>131</td>\n",
       "    </tr>\n",
       "    <tr>\n",
       "      <th>181</th>\n",
       "      <td>1</td>\n",
       "      <td>成都</td>\n",
       "      <td>Unhealthy for Sensitive Groups</td>\n",
       "      <td>117</td>\n",
       "    </tr>\n",
       "    <tr>\n",
       "      <th>118</th>\n",
       "      <td>1</td>\n",
       "      <td>北京</td>\n",
       "      <td>good</td>\n",
       "      <td>42</td>\n",
       "    </tr>\n",
       "    <tr>\n",
       "      <th>111</th>\n",
       "      <td>1</td>\n",
       "      <td>上海</td>\n",
       "      <td>good</td>\n",
       "      <td>41</td>\n",
       "    </tr>\n",
       "    <tr>\n",
       "      <th>88</th>\n",
       "      <td>1</td>\n",
       "      <td>成都</td>\n",
       "      <td>good</td>\n",
       "      <td>29</td>\n",
       "    </tr>\n",
       "    <tr>\n",
       "      <th>53</th>\n",
       "      <td>1</td>\n",
       "      <td>北京</td>\n",
       "      <td>Unhealthy</td>\n",
       "      <td>15</td>\n",
       "    </tr>\n",
       "  </tbody>\n",
       "</table>\n",
       "</div>"
      ],
      "text/plain": [
       "     day city                     air_quality  counts\n",
       "272    1   成都                        Moderate     408\n",
       "260    1   北京                        Moderate     339\n",
       "254    1   上海                        Moderate     297\n",
       "231    1   上海  Unhealthy for Sensitive Groups     227\n",
       "192    1   北京  Unhealthy for Sensitive Groups     131\n",
       "181    1   成都  Unhealthy for Sensitive Groups     117\n",
       "118    1   北京                            good      42\n",
       "111    1   上海                            good      41\n",
       "88     1   成都                            good      29\n",
       "53     1   北京                       Unhealthy      15"
      ]
     },
     "execution_count": 18,
     "metadata": {},
     "output_type": "execute_result"
    }
   ],
   "source": [
    "air_dayly.head(10)"
   ]
  },
  {
   "cell_type": "code",
   "execution_count": 19,
   "metadata": {},
   "outputs": [],
   "source": [
    "air_quality_Feb = d.groupby(['day','city']).apply(lambda df:df[df['counts']==df.counts.max()])"
   ]
  },
  {
   "cell_type": "code",
   "execution_count": 20,
   "metadata": {},
   "outputs": [],
   "source": [
    "air_quality_Feb = pd.DataFrame(air_quality_Feb)"
   ]
  },
  {
   "cell_type": "code",
   "execution_count": 21,
   "metadata": {},
   "outputs": [],
   "source": [
    "air_quality_Feb.drop(columns=['day','city'],inplace=True)"
   ]
  },
  {
   "cell_type": "code",
   "execution_count": 22,
   "metadata": {},
   "outputs": [],
   "source": [
    "air_quality_Feb.reset_index(inplace=True)"
   ]
  },
  {
   "cell_type": "code",
   "execution_count": 23,
   "metadata": {},
   "outputs": [
    {
     "data": {
      "text/html": [
       "<div>\n",
       "<style scoped>\n",
       "    .dataframe tbody tr th:only-of-type {\n",
       "        vertical-align: middle;\n",
       "    }\n",
       "\n",
       "    .dataframe tbody tr th {\n",
       "        vertical-align: top;\n",
       "    }\n",
       "\n",
       "    .dataframe thead th {\n",
       "        text-align: right;\n",
       "    }\n",
       "</style>\n",
       "<table border=\"1\" class=\"dataframe\">\n",
       "  <thead>\n",
       "    <tr style=\"text-align: right;\">\n",
       "      <th></th>\n",
       "      <th>day</th>\n",
       "      <th>city</th>\n",
       "      <th>air_quality</th>\n",
       "      <th>counts</th>\n",
       "    </tr>\n",
       "  </thead>\n",
       "  <tbody>\n",
       "    <tr>\n",
       "      <th>0</th>\n",
       "      <td>1</td>\n",
       "      <td>上海</td>\n",
       "      <td>Moderate</td>\n",
       "      <td>297</td>\n",
       "    </tr>\n",
       "    <tr>\n",
       "      <th>1</th>\n",
       "      <td>1</td>\n",
       "      <td>北京</td>\n",
       "      <td>Moderate</td>\n",
       "      <td>339</td>\n",
       "    </tr>\n",
       "    <tr>\n",
       "      <th>2</th>\n",
       "      <td>1</td>\n",
       "      <td>成都</td>\n",
       "      <td>Moderate</td>\n",
       "      <td>408</td>\n",
       "    </tr>\n",
       "    <tr>\n",
       "      <th>3</th>\n",
       "      <td>2</td>\n",
       "      <td>上海</td>\n",
       "      <td>Moderate</td>\n",
       "      <td>550</td>\n",
       "    </tr>\n",
       "    <tr>\n",
       "      <th>4</th>\n",
       "      <td>2</td>\n",
       "      <td>北京</td>\n",
       "      <td>Unhealthy for Sensitive Groups</td>\n",
       "      <td>223</td>\n",
       "    </tr>\n",
       "    <tr>\n",
       "      <th>...</th>\n",
       "      <td>...</td>\n",
       "      <td>...</td>\n",
       "      <td>...</td>\n",
       "      <td>...</td>\n",
       "    </tr>\n",
       "    <tr>\n",
       "      <th>80</th>\n",
       "      <td>27</td>\n",
       "      <td>北京</td>\n",
       "      <td>Unhealthy for Sensitive Groups</td>\n",
       "      <td>196</td>\n",
       "    </tr>\n",
       "    <tr>\n",
       "      <th>81</th>\n",
       "      <td>27</td>\n",
       "      <td>成都</td>\n",
       "      <td>Moderate</td>\n",
       "      <td>384</td>\n",
       "    </tr>\n",
       "    <tr>\n",
       "      <th>82</th>\n",
       "      <td>28</td>\n",
       "      <td>上海</td>\n",
       "      <td>Moderate</td>\n",
       "      <td>427</td>\n",
       "    </tr>\n",
       "    <tr>\n",
       "      <th>83</th>\n",
       "      <td>28</td>\n",
       "      <td>北京</td>\n",
       "      <td>Moderate</td>\n",
       "      <td>173</td>\n",
       "    </tr>\n",
       "    <tr>\n",
       "      <th>84</th>\n",
       "      <td>28</td>\n",
       "      <td>成都</td>\n",
       "      <td>Moderate</td>\n",
       "      <td>517</td>\n",
       "    </tr>\n",
       "  </tbody>\n",
       "</table>\n",
       "<p>85 rows × 4 columns</p>\n",
       "</div>"
      ],
      "text/plain": [
       "    day city                     air_quality  counts\n",
       "0     1   上海                        Moderate     297\n",
       "1     1   北京                        Moderate     339\n",
       "2     1   成都                        Moderate     408\n",
       "3     2   上海                        Moderate     550\n",
       "4     2   北京  Unhealthy for Sensitive Groups     223\n",
       "..  ...  ...                             ...     ...\n",
       "80   27   北京  Unhealthy for Sensitive Groups     196\n",
       "81   27   成都                        Moderate     384\n",
       "82   28   上海                        Moderate     427\n",
       "83   28   北京                        Moderate     173\n",
       "84   28   成都                        Moderate     517\n",
       "\n",
       "[85 rows x 4 columns]"
      ]
     },
     "execution_count": 23,
     "metadata": {},
     "output_type": "execute_result"
    }
   ],
   "source": [
    "air_quality_Feb.drop(columns=['level_2'])"
   ]
  },
  {
   "cell_type": "code",
   "execution_count": 24,
   "metadata": {},
   "outputs": [
    {
     "data": {
      "text/html": [
       "<div>\n",
       "<style scoped>\n",
       "    .dataframe tbody tr th:only-of-type {\n",
       "        vertical-align: middle;\n",
       "    }\n",
       "\n",
       "    .dataframe tbody tr th {\n",
       "        vertical-align: top;\n",
       "    }\n",
       "\n",
       "    .dataframe thead th {\n",
       "        text-align: right;\n",
       "    }\n",
       "</style>\n",
       "<table border=\"1\" class=\"dataframe\">\n",
       "  <thead>\n",
       "    <tr style=\"text-align: right;\">\n",
       "      <th></th>\n",
       "      <th></th>\n",
       "      <th>air_quality</th>\n",
       "    </tr>\n",
       "    <tr>\n",
       "      <th>city</th>\n",
       "      <th>air_quality</th>\n",
       "      <th></th>\n",
       "    </tr>\n",
       "  </thead>\n",
       "  <tbody>\n",
       "    <tr>\n",
       "      <th rowspan=\"3\" valign=\"top\">上海</th>\n",
       "      <th>good</th>\n",
       "      <td>13</td>\n",
       "    </tr>\n",
       "    <tr>\n",
       "      <th>Moderate</th>\n",
       "      <td>11</td>\n",
       "    </tr>\n",
       "    <tr>\n",
       "      <th>Unhealthy for Sensitive Groups</th>\n",
       "      <td>4</td>\n",
       "    </tr>\n",
       "    <tr>\n",
       "      <th rowspan=\"5\" valign=\"top\">北京</th>\n",
       "      <th>Moderate</th>\n",
       "      <td>12</td>\n",
       "    </tr>\n",
       "    <tr>\n",
       "      <th>good</th>\n",
       "      <td>10</td>\n",
       "    </tr>\n",
       "    <tr>\n",
       "      <th>Unhealthy for Sensitive Groups</th>\n",
       "      <td>3</td>\n",
       "    </tr>\n",
       "    <tr>\n",
       "      <th>Very Unhealthy</th>\n",
       "      <td>3</td>\n",
       "    </tr>\n",
       "    <tr>\n",
       "      <th>Hazardous</th>\n",
       "      <td>1</td>\n",
       "    </tr>\n",
       "    <tr>\n",
       "      <th rowspan=\"3\" valign=\"top\">成都</th>\n",
       "      <th>Moderate</th>\n",
       "      <td>24</td>\n",
       "    </tr>\n",
       "    <tr>\n",
       "      <th>Unhealthy for Sensitive Groups</th>\n",
       "      <td>2</td>\n",
       "    </tr>\n",
       "    <tr>\n",
       "      <th>good</th>\n",
       "      <td>2</td>\n",
       "    </tr>\n",
       "  </tbody>\n",
       "</table>\n",
       "</div>"
      ],
      "text/plain": [
       "                                     air_quality\n",
       "city air_quality                                \n",
       "上海   good                                     13\n",
       "     Moderate                                 11\n",
       "     Unhealthy for Sensitive Groups            4\n",
       "北京   Moderate                                 12\n",
       "     good                                     10\n",
       "     Unhealthy for Sensitive Groups            3\n",
       "     Very Unhealthy                            3\n",
       "     Hazardous                                 1\n",
       "成都   Moderate                                 24\n",
       "     Unhealthy for Sensitive Groups            2\n",
       "     good                                      2"
      ]
     },
     "execution_count": 24,
     "metadata": {},
     "output_type": "execute_result"
    }
   ],
   "source": [
    "result = pd.DataFrame(air_quality_Feb.groupby(['city'])['air_quality'].value_counts())\n",
    "result"
   ]
  },
  {
   "cell_type": "code",
   "execution_count": 26,
   "metadata": {},
   "outputs": [],
   "source": [
    "#可视化统计结果\n",
    "result.rename(columns={\"air_quality\":\"days\"},inplace=True)\n",
    "result.reset_index(inplace=True)"
   ]
  },
  {
   "cell_type": "code",
   "execution_count": 27,
   "metadata": {},
   "outputs": [],
   "source": [
    "result_citys = ['上海','北京','成都']\n",
    "result_counts = []\n",
    "result_air_quality = []\n",
    "for city in result_citys:\n",
    "    result_air_quality.append(result[result['city']==city]['air_quality'].values.tolist())\n",
    "    result_counts.append(result[result.city==city]['days'].values.tolist())"
   ]
  },
  {
   "cell_type": "code",
   "execution_count": 28,
   "metadata": {},
   "outputs": [],
   "source": [
    "pie=Pie().add(\n",
    "    \"\",\n",
    "    [list(z) for z in zip(result_air_quality[0],result_counts[0])],\n",
    "    center=[\"20%\", \"30%\"],\n",
    "    radius=[60, 80]\n",
    ").set_global_opts(\n",
    "    title_opts=opts.TitleOpts(title=\"上海空气质量情况\"),\n",
    "    legend_opts=opts.LegendOpts(is_show=False))\n",
    "\n",
    "    \n",
    "pie2 = Pie().add(\n",
    "    \"\",\n",
    "    [list(z) for z in zip(result_air_quality[1],result_counts[1])],\n",
    "    center=[\"60%\", \"30%\"],\n",
    "    radius=[60, 80]\n",
    ").set_global_opts(\n",
    "    title_opts=opts.TitleOpts(title=\"北京空气质量情况\",pos_left=\"40%\"),\n",
    "    legend_opts=opts.LegendOpts(\n",
    "        type_=\"scroll\", pos_top=\"60%\", pos_left=\"41%\", orient=\"vertical\"\n",
    "    ))\n",
    "    \n",
    "pie3 = Pie().add(\n",
    "    \"\",\n",
    "    [list(z) for z in zip(result_air_quality[2],result_counts[2])],\n",
    "    center=[\"20%\", \"70%\"],\n",
    "    radius=[60, 80]\n",
    ").set_global_opts(\n",
    "    title_opts=opts.TitleOpts(title=\"成都空气质量情况\", pos_top =\"90%\"),\n",
    "    legend_opts=opts.LegendOpts(is_show=False))\n",
    "\n",
    "grid = (\n",
    "Grid()\n",
    ".add(pie, grid_opts=opts.GridOpts(pos_left=\"55%\"))\n",
    ".add(pie2, grid_opts=opts.GridOpts(pos_right=\"30%\"))\n",
    ".add(pie3, grid_opts=opts.GridOpts(pos_right=\"20%\"))\n",
    ".render(\"grid_horizontal.html\")\n",
    ")"
   ]
  },
  {
   "cell_type": "markdown",
   "metadata": {},
   "source": [
    "# Question  3"
   ]
  },
  {
   "cell_type": "code",
   "execution_count": 29,
   "metadata": {},
   "outputs": [],
   "source": [
    "#分析每个城市中空气中的主要污染物\n",
    "#环保措施"
   ]
  },
  {
   "cell_type": "markdown",
   "metadata": {},
   "source": [
    "## 成都市 2018-2019年主要污染物"
   ]
  },
  {
   "cell_type": "code",
   "execution_count": 25,
   "metadata": {},
   "outputs": [],
   "source": [
    "df_chengdu = df.filter(\"city=='成都'\")"
   ]
  },
  {
   "cell_type": "code",
   "execution_count": 26,
   "metadata": {},
   "outputs": [],
   "source": [
    "df_chengdu_daily = df_chengdu.groupby('year','month').agg({'NO2':'mean',\"SO2\":\"mean\",\"PM25\":\"mean\",\"PM10\":\"mean\",\"CO\":\"mean\",\"O3-8h\":\"mean\"})"
   ]
  },
  {
   "cell_type": "code",
   "execution_count": 27,
   "metadata": {},
   "outputs": [
    {
     "data": {
      "text/plain": [
       "DataFrame[year: int, month: int, avg(O3-8h): double, avg(SO2): double, avg(NO2): double, avg(CO): double, avg(PM25): double, avg(PM10): double]"
      ]
     },
     "execution_count": 27,
     "metadata": {},
     "output_type": "execute_result"
    }
   ],
   "source": [
    "df_chengdu_daily"
   ]
  },
  {
   "cell_type": "code",
   "execution_count": 28,
   "metadata": {},
   "outputs": [],
   "source": [
    "df_2018_8 = df_chengdu_daily.filter('year==2018 and month==8')\n",
    "df_2019_1 = df_chengdu_daily.filter('year==2019 and month==1')\n",
    "df_2019_2 =  df_chengdu_daily.filter('year==2019 and month==2')\n",
    "df_2019_6 =  df_chengdu_daily.filter('year==2019 and month==6')"
   ]
  },
  {
   "cell_type": "code",
   "execution_count": 29,
   "metadata": {},
   "outputs": [
    {
     "name": "stderr",
     "output_type": "stream",
     "text": [
      "/usr/local/spark/python/pyspark/sql/dataframe.py:2111: UserWarning: toPandas attempted Arrow optimization because 'spark.sql.execution.arrow.enabled' is set to true; however, failed by the reason below:\n",
      "  PyArrow >= 0.8.0 must be installed; however, it was not found.\n",
      "Attempting non-optimization as 'spark.sql.execution.arrow.fallback.enabled' is set to true.\n",
      "  warnings.warn(msg)\n"
     ]
    }
   ],
   "source": [
    "data = []\n",
    "time = ['2018-08','2019-01','2019-02','2019-06']\n",
    "data.append(np.round(df_2018_8.toPandas().drop(columns=['year','month']).values[0],2))\n",
    "data.append(np.round(df_2019_1.toPandas().drop(columns=['year','month']).values[0],2))\n",
    "data.append(np.round(df_2019_2.toPandas().drop(columns=['year','month']).values[0],2))\n",
    "data.append(np.round(df_2019_6.toPandas().drop(columns=['year','month']).values[0],2))"
   ]
  },
  {
   "cell_type": "code",
   "execution_count": 337,
   "metadata": {},
   "outputs": [
    {
     "data": {
      "text/plain": [
       "'/home/hadoop/bigdata/timeline_pie.html'"
      ]
     },
     "execution_count": 337,
     "metadata": {},
     "output_type": "execute_result"
    }
   ],
   "source": [
    "from pyecharts import options as opts\n",
    "from pyecharts.charts import Pie, Timeline\n",
    "from pyecharts.faker import Faker\n",
    "\n",
    "attr = Faker.choose()\n",
    "tl = Timeline()\n",
    "\n",
    "for i in range(4):\n",
    "    pie = (\n",
    "        Pie()\n",
    "        .add(\n",
    "            \"日平均浓度\",\n",
    "            [list(z) for z in zip(pollutant, data[i])],\n",
    "            rosetype=\"radius\",\n",
    "            radius=[\"30%\", \"55%\"],\n",
    "            \n",
    "        )\n",
    "        .set_global_opts(title_opts=opts.TitleOpts(time[i]+' 成都市空气污染物'),\n",
    "                        legend_opts=opts.LegendOpts(pos_left=\"35%\")\n",
    "                        )\n",
    "    )\n",
    "    tl.add(pie,time[i])\n",
    "tl.render(\"timeline_pie.html\")"
   ]
  },
  {
   "cell_type": "markdown",
   "metadata": {},
   "source": [
    "## 全国污染情况"
   ]
  },
  {
   "cell_type": "code",
   "execution_count": 38,
   "metadata": {},
   "outputs": [],
   "source": [
    "df_nation = df.filter(\"AQI<=500 and city!='青岛'\").groupby('city','year','month').agg({\"AQI\":\"mean\"})\n",
    "\n",
    "df_aug = df_nation.filter('year==2018 and month==8').toPandas()\n",
    "df_jan = df_nation.filter('year==2019 and month==1').toPandas()\n",
    "df_feb = df_nation.filter('year==2019 and month==2').toPandas()\n",
    "df_june = df_nation.filter('year==2019 and month==6').toPandas()"
   ]
  },
  {
   "cell_type": "code",
   "execution_count": 39,
   "metadata": {},
   "outputs": [],
   "source": [
    "province={\"成都\":\"四川\",\n",
    "         \"海口\":\"海南\",\n",
    "          \"天津\":\"天津\",\n",
    "          \"厦门\":\"福建\",\n",
    "          \"呼和浩特\":\"内蒙古\",\n",
    "          \"青岛\":\"山东\",\n",
    "          \"昆明\":\"云南\",\n",
    "          \"郑州\":\"河南\",\n",
    "          \"乌鲁木齐\":\"新疆\",\n",
    "          \"济南\":\"山东\",\n",
    "          \"北京\":\"北京\",\n",
    "          \"上海\":\"上海\"\n",
    "         }\n",
    "aqis=[]\n",
    "\n",
    "aqis.append(np.round(df_aug['avg(AQI)'].values.tolist(),2))\n",
    "aqis.append(np.round(df_jan['avg(AQI)'].values.tolist(),2))\n",
    "aqis.append(np.round(df_feb['avg(AQI)'].values.tolist(),2))\n",
    "aqis.append(np.round(df_june['avg(AQI)'].values.tolist(),2))\n",
    "\n",
    "provinces = []\n",
    "\n",
    "citys=[]\n",
    "citys.append(df_aug['city'].values.tolist())\n",
    "citys.append(df_jan['city'].values.tolist())\n",
    "citys.append(df_feb['city'].values.tolist())\n",
    "citys.append(df_june['city'].values.tolist())\n",
    "\n",
    "for j in citys:\n",
    "    tmp = []\n",
    "    for i in j:\n",
    "        if i in province.keys():\n",
    "            tmp.append(province[i])\n",
    "    provinces.append(tmp)"
   ]
  },
  {
   "cell_type": "code",
   "execution_count": 40,
   "metadata": {},
   "outputs": [
    {
     "data": {
      "text/plain": [
       "'/home/hadoop/bigdata/timeline_map.html'"
      ]
     },
     "execution_count": 40,
     "metadata": {},
     "output_type": "execute_result"
    }
   ],
   "source": [
    "tl = Timeline()\n",
    "time = ['2018-08','2019-01','2019-02','2019-06']\n",
    "for i in range(4):\n",
    "    map0 = (\n",
    "       Map()\n",
    "        .add(\n",
    "            \"\",\n",
    "            [list(z) for z in zip(provinces[i],aqis[i])],\n",
    "            \"china\",\n",
    "            label_opts=opts.LabelOpts(is_show=False),\n",
    "        )\n",
    "        .set_global_opts(\n",
    "            title_opts=opts.TitleOpts(title=time[i]+\"全国空气质量情况\"),\n",
    "            visualmap_opts=opts.VisualMapOpts()\n",
    "        )\n",
    "    )\n",
    "    tl.add(map0, time[i])\n",
    "tl.render(\"timeline_map.html\")"
   ]
  },
  {
   "cell_type": "code",
   "execution_count": null,
   "metadata": {},
   "outputs": [],
   "source": []
  }
 ],
 "metadata": {
  "kernelspec": {
   "display_name": "Python 3",
   "language": "python",
   "name": "python3"
  },
  "language_info": {
   "codemirror_mode": {
    "name": "ipython",
    "version": 3
   },
   "file_extension": ".py",
   "mimetype": "text/x-python",
   "name": "python",
   "nbconvert_exporter": "python",
   "pygments_lexer": "ipython3",
   "version": "3.6.5"
  }
 },
 "nbformat": 4,
 "nbformat_minor": 2
}
